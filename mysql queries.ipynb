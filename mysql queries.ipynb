{
 "cells": [
  {
   "cell_type": "code",
   "execution_count": 1,
   "metadata": {},
   "outputs": [],
   "source": [
    "import mysql.connector as connection\n",
    "   \n",
    "mydb = connection.connect(host=\"localhost\",user=\"root\", passwd=\"mysql\",use_pure=True )\n",
    "cursor = mydb.cursor()\n",
    "query='create database if not exists kavya; '\n",
    "\n",
    " # Create database\n",
    "cursor.execute(query)"
   ]
  },
  {
   "cell_type": "code",
   "execution_count": 1,
   "metadata": {},
   "outputs": [],
   "source": [
    "import mysql.connector as connection\n",
    "   \n",
    "mydb = connection.connect(host=\"localhost\",user=\"root\",database=\"kavya\", passwd=\"mysql\",use_pure=True )\n",
    "cursor = mydb.cursor()\n",
    "query='create table if not exists  studentdetails(id int(10),auto_increment int(10) primary key,first_name varchar(60),last_name varchar(60),regisdate date,section varchar(20),class varchar(20));'\n",
    " # Create table\n",
    "cursor.execute(query)"
   ]
  },
  {
   "cell_type": "code",
   "execution_count": 2,
   "metadata": {},
   "outputs": [],
   "source": [
    "import mysql.connector as connection\n",
    "   \n",
    "mydb = connection.connect(host=\"localhost\",user=\"root\",database=\"kavya\", passwd=\"mysql\",use_pure=True )\n",
    "cursor = mydb.cursor()\n",
    "query='insert into  studentdetails values(112,12,\"rohit\",\"sharma\",\"2021-02-12\",\"b\",\"tenth\");'\n",
    " # insert into table\n",
    "cursor.execute(query)\n",
    "mydb.commit()"
   ]
  },
  {
   "cell_type": "code",
   "execution_count": 7,
   "metadata": {},
   "outputs": [],
   "source": [
    "import mysql.connector as connection\n",
    "   \n",
    "mydb = connection.connect(host=\"localhost\",user=\"root\", passwd=\"mysql\",use_pure=True )\n",
    "cursor = mydb.cursor()\n",
    "query='create database if not exists glassdata; '\n",
    "\n",
    " # Create database\n",
    "cursor.execute(query)"
   ]
  },
  {
   "cell_type": "code",
   "execution_count": 8,
   "metadata": {},
   "outputs": [],
   "source": [
    "import mysql.connector as connection\n",
    "   \n",
    "mydb = connection.connect(host=\"localhost\",user=\"root\",database=\"glassdata\", passwd=\"mysql\",use_pure=True )\n",
    "cursor = mydb.cursor()\n",
    "query='create table if not exists  glass(indexno int(10),RI float(10,5),Na  float(10,5),Mg float(10,5),Al float(10,5),Si float(10,5),K float(10,5),Ca float(10,5),Ba float(10,5),Fe float(10,5),Class int(10));'\n",
    "cursor.execute(query)\n"
   ]
  },
  {
   "cell_type": "code",
   "execution_count": 9,
   "metadata": {},
   "outputs": [],
   "source": [
    "import mysql.connector as connection\n",
    "   \n",
    "mydb = connection.connect(host=\"localhost\",user=\"root\",database=\"glassdata\", passwd=\"mysql\",use_pure=True )\n",
    "import csv\n",
    "with open('C://Users/kavya/Downloads/glass.data', 'r') as f:\n",
    "        next(f)\n",
    "        glass_data=csv.reader(f,delimiter=\"\\n\")\n",
    "        cursor = mydb.cursor()\n",
    "        for i in enumerate(glass_data):\n",
    "            for j in i[1]:\n",
    "                cursor.execute(\"insert into glassdata.glass values ({values})\".format(values=(j)))\n",
    "                mydb.commit()\n",
    "            \n",
    "        \n",
    "             \n",
    "        "
   ]
  },
  {
   "cell_type": "code",
   "execution_count": 8,
   "metadata": {},
   "outputs": [
    {
     "name": "stdout",
     "output_type": "stream",
     "text": [
      "     indexno       RI     Na    Mg    Al     Si     K    Ca    Ba   Fe  Class\n",
      "0          1  1.52101  13.64  4.49  1.10  71.78  0.06  8.75  0.00  0.0      1\n",
      "1          2  1.51761  13.89  3.60  1.36  72.73  0.48  7.83  0.00  0.0      1\n",
      "2          3  1.51618  13.53  3.55  1.54  72.99  0.39  7.78  0.00  0.0      1\n",
      "3          4  1.51766  13.21  3.69  1.29  72.61  0.57  8.22  0.00  0.0      1\n",
      "4          5  1.51742  13.27  3.62  1.24  73.08  0.55  8.07  0.00  0.0      1\n",
      "..       ...      ...    ...   ...   ...    ...   ...   ...   ...  ...    ...\n",
      "510      210  1.51623  14.14  0.00  2.88  72.61  0.08  9.18  1.06  0.0      7\n",
      "511      211  1.51685  14.92  0.00  1.99  73.06  0.00  8.40  1.59  0.0      7\n",
      "512      212  1.52065  14.36  0.00  2.02  73.42  0.00  8.44  1.64  0.0      7\n",
      "513      213  1.51651  14.38  0.00  1.94  73.61  0.00  8.48  1.57  0.0      7\n",
      "514      214  1.51711  14.23  0.00  2.08  73.36  0.00  8.62  1.67  0.0      7\n",
      "\n",
      "[515 rows x 11 columns]\n"
     ]
    }
   ],
   "source": [
    "import mysql.connector as connection\n",
    "import pandas as pd\n",
    "mydb = connection.connect(host=\"localhost\",user=\"root\",database=\"glassdata\", passwd=\"mysql\",use_pure=True )\n",
    "\n",
    "query=\"select * from glassdata.glass\";\n",
    "result=pd.read_sql(query,mydb)\n",
    "print(result)\n"
   ]
  },
  {
   "cell_type": "code",
   "execution_count": 4,
   "metadata": {},
   "outputs": [],
   "source": [
    "import mysql.connector as connection\n",
    "   \n",
    "mydb = connection.connect(host=\"localhost\",user=\"root\", database=\"kavya\",passwd=\"mysql\",use_pure=True )\n",
    "cursor = mydb.cursor()\n",
    "query='update studentdetails set first_name=\"gaurav\",last_name=\"sree\" where auto_increment=9';\n",
    "\n",
    " # update table\n",
    "cursor.execute(query)\n",
    "mydb.commit()\n"
   ]
  },
  {
   "cell_type": "code",
   "execution_count": 5,
   "metadata": {},
   "outputs": [],
   "source": [
    "import mysql.connector as connection\n",
    "   \n",
    "mydb = connection.connect(host=\"localhost\",user=\"root\", database=\"kavya\",passwd=\"mysql\",use_pure=True )\n",
    "cursor = mydb.cursor()\n",
    "query='delete from studentdetails where auto_increment=9';\n",
    "\n",
    " # update table\n",
    "cursor.execute(query)\n",
    "mydb.commit()"
   ]
  },
  {
   "cell_type": "code",
   "execution_count": 6,
   "metadata": {},
   "outputs": [
    {
     "name": "stdout",
     "output_type": "stream",
     "text": [
      "        Si    Ca  Class\n",
      "0    71.78  8.75      1\n",
      "1    72.73  7.83      1\n",
      "2    72.99  7.78      1\n",
      "3    72.61  8.22      1\n",
      "4    73.08  8.07      1\n",
      "..     ...   ...    ...\n",
      "128  75.18  8.93      7\n",
      "129  73.72  8.39      7\n",
      "130  73.30  8.71      7\n",
      "131  73.42  8.44      7\n",
      "132  73.61  8.48      7\n",
      "\n",
      "[133 rows x 3 columns]\n"
     ]
    }
   ],
   "source": [
    "import mysql.connector as connection\n",
    "import pandas as pd\n",
    "mydb = connection.connect(host=\"localhost\",user=\"root\",database=\"glassdata\", passwd=\"mysql\",use_pure=True )\n",
    "\n",
    "query=\"select Si ,Ca,Class from glassdata.glass group by si order by class\";\n",
    "result=pd.read_sql(query,mydb)\n",
    "print(result)"
   ]
  },
  {
   "cell_type": "code",
   "execution_count": null,
   "metadata": {},
   "outputs": [],
   "source": []
  }
 ],
 "metadata": {
  "kernelspec": {
   "display_name": "Python 3",
   "language": "python",
   "name": "python3"
  },
  "language_info": {
   "codemirror_mode": {
    "name": "ipython",
    "version": 3
   },
   "file_extension": ".py",
   "mimetype": "text/x-python",
   "name": "python",
   "nbconvert_exporter": "python",
   "pygments_lexer": "ipython3",
   "version": "3.7.4"
  }
 },
 "nbformat": 4,
 "nbformat_minor": 2
}
